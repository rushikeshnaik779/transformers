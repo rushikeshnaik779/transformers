{
  "nbformat": 4,
  "nbformat_minor": 0,
  "metadata": {
    "colab": {
      "name": "Positional Encoding.ipynb",
      "provenance": [],
      "authorship_tag": "ABX9TyMvAUxPDCipXqRLg9qEYshM",
      "include_colab_link": true
    },
    "kernelspec": {
      "name": "python3",
      "display_name": "Python 3"
    },
    "language_info": {
      "name": "python"
    }
  },
  "cells": [
    {
      "cell_type": "markdown",
      "metadata": {
        "id": "view-in-github",
        "colab_type": "text"
      },
      "source": [
        "<a href=\"https://colab.research.google.com/github/rushikeshnaik779/transformers/blob/main/architecture/Positional_Encoding.ipynb\" target=\"_parent\"><img src=\"https://colab.research.google.com/assets/colab-badge.svg\" alt=\"Open In Colab\"/></a>"
      ]
    },
    {
      "cell_type": "code",
      "metadata": {
        "colab": {
          "base_uri": "https://localhost:8080/"
        },
        "id": "CpEAmVhVGhWl",
        "outputId": "7246b277-8415-4c94-e1f7-8fb42e4ebff6"
      },
      "source": [
        "!pip install --upgrade gensim\n",
        "\n",
        "import nltk \n",
        "import torch \n",
        "\n",
        "nltk.download('punkt')"
      ],
      "execution_count": 2,
      "outputs": [
        {
          "output_type": "stream",
          "text": [
            "Requirement already up-to-date: gensim in /usr/local/lib/python3.7/dist-packages (3.8.3)\n",
            "Requirement already satisfied, skipping upgrade: smart-open>=1.8.1 in /usr/local/lib/python3.7/dist-packages (from gensim) (4.2.0)\n",
            "Requirement already satisfied, skipping upgrade: six>=1.5.0 in /usr/local/lib/python3.7/dist-packages (from gensim) (1.15.0)\n",
            "Requirement already satisfied, skipping upgrade: scipy>=0.18.1 in /usr/local/lib/python3.7/dist-packages (from gensim) (1.4.1)\n",
            "Requirement already satisfied, skipping upgrade: numpy>=1.11.3 in /usr/local/lib/python3.7/dist-packages (from gensim) (1.19.5)\n",
            "[nltk_data] Downloading package punkt to /root/nltk_data...\n",
            "[nltk_data]   Unzipping tokenizers/punkt.zip.\n"
          ],
          "name": "stdout"
        },
        {
          "output_type": "execute_result",
          "data": {
            "text/plain": [
              "True"
            ]
          },
          "metadata": {
            "tags": []
          },
          "execution_count": 2
        }
      ]
    },
    {
      "cell_type": "code",
      "metadata": {
        "id": "PsyThRsjHoRG"
      },
      "source": [
        "import math \n",
        "import numpy as np \n",
        "import gensim \n",
        "from nltk.tokenize import sent_tokenize, word_tokenize\n",
        "from gensim.models import Word2Vec\n",
        "import numpy as np \n",
        "from sklearn.metrics.pairwise import cosine_similarity \n",
        "import matplotlib.pyplot as plt \n",
        "import warnings \n",
        "warnings.filterwarnings(action='ignore')"
      ],
      "execution_count": 3,
      "outputs": []
    },
    {
      "cell_type": "code",
      "metadata": {
        "colab": {
          "base_uri": "https://localhost:8080/"
        },
        "id": "OI6Tse5PIdfh",
        "outputId": "74f2c245-9c54-458a-bedf-8a29f0e1bcd0"
      },
      "source": [
        "dprint = 0 \n",
        "sample = open(\"text.txt\", 'r')\n",
        "s = sample.read()\n",
        "\n",
        "# preprocessing escape characters \n",
        "f = s.replace(\"\\n\", \" \")\n",
        "data = []\n",
        "\n",
        "# sentence parsing \n",
        "for i in sent_tokenize(f):\n",
        "    temp = []\n",
        "    for j in word_tokenize(i):\n",
        "        temp.append(j.lower())\n",
        "    data.append(temp)\n",
        "\n",
        "# Creating skip gram model \n",
        "print(data)\n",
        "\n",
        "model2 = gensim.models.Word2Vec(data, min_count=1, size=512, window=5, sg=1)\n",
        "\n",
        "\n",
        "\n",
        "word1 = 'couch'\n",
        "word2 = 'and'\n",
        "pos1 = 7\n",
        "pos2 = 8\n",
        "\n",
        "a = model2[word1]\n",
        "b = model2[word2]\n",
        "\n",
        "\n",
        "if dprint==1: \n",
        "    print(a)\n",
        "\n",
        "\n",
        "# compute consine similarity \n",
        "dot = np.dot(a, b)\n",
        "norma = np.linalg.norm(a)\n",
        "normb = np.linalg.norm(b)\n",
        "\n",
        "cos = dot/(norma * normb)\n",
        "\n",
        "aa = a.reshape(1, 512)\n",
        "ba = b.reshape(1, 512)\n",
        "\n",
        "cos_lib = cosine_similarity(aa, ba)"
      ],
      "execution_count": 46,
      "outputs": [
        {
          "output_type": "stream",
          "text": [
            "[['the', 'black', 'cat', 'sat', 'on', 'the', 'couch', 'and', 'the', 'brown', 'dog', 'slept', 'on', 'the', 'rug.the', 'cat', 'did', 'not', 'cross', 'the', 'street', 'because', 'it', 'was', 'too', 'wet.the', 'dog', 'sat', 'on', 'the', 'couch', 'near', 'the', 'rug.the', 'black', 'cat', 'sat', 'on', 'the', 'couch', 'and', 'the', 'brown', 'dog', 'slept', 'on', 'the', 'rug.the', 'cat', 'did', 'not', 'cross', 'the', 'street', 'because', 'it', 'was', 'too', 'wet.the', 'dog', 'sat', 'on', 'the', 'couch', 'near', 'the', 'rug', '.'], ['the', 'black', 'cat', 'sat', 'on', 'the', 'couch', 'and', 'the', 'brown', 'dog', 'slept', 'on', 'the', 'rug.the', 'cat', 'did', 'not', 'cross', 'the', 'street', 'because', 'it', 'was', 'too', 'wet.the', 'dog', 'sat', 'on', 'the', 'couch', 'near', 'the', 'rug', '.'], ['the', 'black', 'cat', 'sat', 'on', 'the', 'couch', 'and', 'the', 'brown', 'dog', 'slept', 'on', 'the', 'rug.the', 'cat', 'did', 'not', 'cross', 'the', 'street', 'because', 'it', 'was', 'too', 'wet.the', 'dog', 'sat', 'on', 'the', 'couch', 'near', 'the', 'rug', '.'], ['the', 'black', 'cat', 'sat', 'on', 'the', 'couch', 'and', 'the', 'brown', 'dog', 'slept', 'on', 'the', 'rug.the', 'cat', 'did', 'not', 'cross', 'the', 'street', 'because', 'it', 'was', 'too', 'wet.the', 'dog', 'sat', 'on', 'the', 'couch', 'near', 'the', 'rug', '.'], ['the', 'black', 'cat', 'sat', 'on', 'the', 'couch', 'and', 'the', 'brown', 'dog', 'slept', 'on', 'the', 'rug.the', 'cat', 'did', 'not', 'cross', 'the', 'street', 'because', 'it', 'was', 'too', 'wet.the', 'dog', 'sat', 'on', 'the', 'couch', 'near', 'the', 'rug', '.'], ['the', 'black', 'cat', 'sat', 'on', 'the', 'couch', 'and', 'the', 'brown', 'dog', 'slept', 'on', 'the', 'rug.the', 'cat', 'did', 'not', 'cross', 'the', 'street', 'because', 'it', 'was', 'too', 'wet.the', 'dog', 'sat', 'on', 'the', 'couch', 'near', 'the', 'rug', '.'], ['the', 'black', 'cat', 'sat', 'on', 'the', 'couch', 'and', 'the', 'brown', 'dog', 'slept', 'on', 'the', 'rug.the', 'cat', 'did', 'not', 'cross', 'the', 'street', 'because', 'it', 'was', 'too', 'wet.the', 'dog', 'sat', 'on', 'the', 'couch', 'near', 'the', 'rug', '.'], ['the', 'black', 'cat', 'sat', 'on', 'the', 'couch', 'and', 'the', 'brown', 'dog', 'slept', 'on', 'the', 'rug.the', 'cat', 'did', 'not', 'cross', 'the', 'street', 'because', 'it', 'was', 'too', 'wet.the', 'dog', 'sat', 'on', 'the', 'couch', 'near', 'the', 'rug', '.'], ['the', 'black', 'cat', 'sat', 'on', 'the', 'couch', 'and', 'the', 'brown', 'dog', 'slept', 'on', 'the', 'rug.the', 'cat', 'did', 'not', 'cross', 'the', 'street', 'because', 'it', 'was', 'too', 'wet.the', 'dog', 'sat', 'on', 'the', 'couch', 'near', 'the', 'rug', '.'], ['the', 'black', 'cat', 'sat', 'on', 'the', 'couch', 'and', 'the', 'brown', 'dog', 'slept', 'on', 'the', 'rug.the', 'cat', 'did', 'not', 'cross', 'the', 'street', 'because', 'it', 'was', 'too', 'wet.the', 'dog', 'sat', 'on', 'the', 'couch', 'near', 'the', 'rug', '.'], ['the', 'black', 'cat', 'sat', 'on', 'the', 'couch', 'and', 'the', 'brown', 'dog', 'slept', 'on', 'the', 'rug.the', 'cat', 'did', 'not', 'cross', 'the', 'street', 'because', 'it', 'was', 'too', 'wet.the', 'dog', 'sat', 'on', 'the', 'couch', 'near', 'the', 'rug', '.'], ['the', 'black', 'cat', 'sat', 'on', 'the', 'couch', 'and', 'the', 'brown', 'dog', 'slept', 'on', 'the', 'rug.the', 'cat', 'did', 'not', 'cross', 'the', 'street', 'because', 'it', 'was', 'too', 'wet.the', 'dog', 'sat', 'on', 'the', 'couch', 'near', 'the', 'rug', '.'], ['the', 'black', 'cat', 'sat', 'on', 'the', 'couch', 'and', 'the', 'brown', 'dog', 'slept', 'on', 'the', 'rug.the', 'cat', 'did', 'not', 'cross', 'the', 'street', 'because', 'it', 'was', 'too', 'wet.the', 'dog', 'sat', 'on', 'the', 'couch', 'near', 'the', 'rug', '.'], ['the', 'black', 'cat', 'sat', 'on', 'the', 'couch', 'and', 'the', 'brown', 'dog', 'slept', 'on', 'the', 'rug.the', 'cat', 'did', 'not', 'cross', 'the', 'street', 'because', 'it', 'was', 'too', 'wet.the', 'dog', 'sat', 'on', 'the', 'couch', 'near', 'the', 'rug', '.'], ['the', 'black', 'cat', 'sat', 'on', 'the', 'couch', 'and', 'the', 'brown', 'dog', 'slept', 'on', 'the', 'rug.the', 'cat', 'did', 'not', 'cross', 'the', 'street', 'because', 'it', 'was', 'too', 'wet.the', 'dog', 'sat', 'on', 'the', 'couch', 'near', 'the', 'rug', '.'], ['the', 'black', 'cat', 'sat', 'on', 'the', 'couch', 'and', 'the', 'brown', 'dog', 'slept', 'on', 'the', 'rug.the', 'cat', 'did', 'not', 'cross', 'the', 'street', 'because', 'it', 'was', 'too', 'wet.the', 'dog', 'sat', 'on', 'the', 'couch', 'near', 'the', 'rug', '.'], ['the', 'black', 'cat', 'sat', 'on', 'the', 'couch', 'and', 'the', 'brown', 'dog', 'slept', 'on', 'the', 'rug.the', 'cat', 'did', 'not', 'cross', 'the', 'street', 'because', 'it', 'was', 'too', 'wet.the', 'dog', 'sat', 'on', 'the', 'couch', 'near', 'the', 'rug', '.'], ['the', 'black', 'cat', 'sat', 'on', 'the', 'couch', 'and', 'the', 'brown', 'dog', 'slept', 'on', 'the', 'rug.the', 'cat', 'did', 'not', 'cross', 'the', 'street', 'because', 'it', 'was', 'too', 'wet.the', 'dog', 'sat', 'on', 'the', 'couch', 'near', 'the', 'rug', '.'], ['the', 'black', 'cat', 'sat', 'on', 'the', 'couch', 'and', 'the', 'brown', 'dog', 'slept', 'on', 'the', 'rug.the', 'cat', 'did', 'not', 'cross', 'the', 'street', 'because', 'it', 'was', 'too', 'wet.the', 'dog', 'sat', 'on', 'the', 'couch', 'near', 'the', 'rug', '.'], ['the', 'black', 'cat', 'sat', 'on', 'the', 'couch', 'and', 'the', 'brown', 'dog', 'slept', 'on', 'the', 'rug.the', 'cat', 'did', 'not', 'cross', 'the', 'street', 'because', 'it', 'was', 'too', 'wet.the', 'dog', 'sat', 'on', 'the', 'couch', 'near', 'the', 'rug', '.'], ['the', 'black', 'cat', 'sat', 'on', 'the', 'couch', 'and', 'the', 'brown', 'dog', 'slept', 'on', 'the', 'rug.the', 'cat', 'did', 'not', 'cross', 'the', 'street', 'because', 'it', 'was', 'too', 'wet.the', 'dog', 'sat', 'on', 'the', 'couch', 'near', 'the', 'rug', '.'], ['the', 'black', 'cat', 'sat', 'on', 'the', 'couch', 'and', 'the', 'brown', 'dog', 'slept', 'on', 'the', 'rug.the', 'cat', 'did', 'not', 'cross', 'the', 'street', 'because', 'it', 'was', 'too', 'wet.the', 'dog', 'sat', 'on', 'the', 'couch', 'near', 'the', 'rug', '.'], ['the', 'black', 'cat', 'sat', 'on', 'the', 'couch', 'and', 'the', 'brown', 'dog', 'slept', 'on', 'the', 'rug.the', 'cat', 'did', 'not', 'cross', 'the', 'street', 'because', 'it', 'was', 'too', 'wet.the', 'dog', 'sat', 'on', 'the', 'couch', 'near', 'the', 'rug', '.'], ['the', 'black', 'cat', 'sat', 'on', 'the', 'couch', 'and', 'the', 'brown', 'dog', 'slept', 'on', 'the', 'rug.the', 'cat', 'did', 'not', 'cross', 'the', 'street', 'because', 'it', 'was', 'too', 'wet.the', 'dog', 'sat', 'on', 'the', 'couch', 'near', 'the', 'rug', '.'], ['the', 'black', 'cat', 'sat', 'on', 'the', 'couch', 'and', 'the', 'brown', 'dog', 'slept', 'on', 'the', 'rug.the', 'cat', 'did', 'not', 'cross', 'the', 'street', 'because', 'it', 'was', 'too', 'wet.the', 'dog', 'sat', 'on', 'the', 'couch', 'near', 'the', 'rug', '.'], ['the', 'black', 'cat', 'sat', 'on', 'the', 'couch', 'and', 'the', 'brown', 'dog', 'slept', 'on', 'the', 'rug.the', 'cat', 'did', 'not', 'cross', 'the', 'street', 'because', 'it', 'was', 'too', 'wet.the', 'dog', 'sat', 'on', 'the', 'couch', 'near', 'the', 'rug', '.'], ['the', 'black', 'cat', 'sat', 'on', 'the', 'couch', 'and', 'the', 'brown', 'dog', 'slept', 'on', 'the', 'rug.the', 'cat', 'did', 'not', 'cross', 'the', 'street', 'because', 'it', 'was', 'too', 'wet.the', 'dog', 'sat', 'on', 'the', 'couch', 'near', 'the', 'rug', '.'], ['the', 'black', 'cat', 'sat', 'on', 'the', 'couch', 'and', 'the', 'brown', 'dog', 'slept', 'on', 'the', 'rug.the', 'cat', 'did', 'not', 'cross', 'the', 'street', 'because', 'it', 'was', 'too', 'wet.the', 'dog', 'sat', 'on', 'the', 'couch', 'near', 'the', 'rug', '.'], ['the', 'black', 'cat', 'sat', 'on', 'the', 'couch', 'and', 'the', 'brown', 'dog', 'slept', 'on', 'the', 'rug.the', 'cat', 'did', 'not', 'cross', 'the', 'street', 'because', 'it', 'was', 'too', 'wet.the', 'dog', 'sat', 'on', 'the', 'couch', 'near', 'the', 'rug', '.'], ['the', 'black', 'cat', 'sat', 'on', 'the', 'couch', 'and', 'the', 'brown', 'dog', 'slept', 'on', 'the', 'rug.the', 'cat', 'did', 'not', 'cross', 'the', 'street', 'because', 'it', 'was', 'too', 'wet.the', 'dog', 'sat', 'on', 'the', 'couch', 'near', 'the', 'rug', '.'], ['the', 'black', 'cat', 'sat', 'on', 'the', 'couch', 'and', 'the', 'brown', 'dog', 'slept', 'on', 'the', 'rug.the', 'cat', 'did', 'not', 'cross', 'the', 'street', 'because', 'it', 'was', 'too', 'wet.the', 'dog', 'sat', 'on', 'the', 'couch', 'near', 'the', 'rug', '.'], ['the', 'black', 'cat', 'sat', 'on', 'the', 'couch', 'and', 'the', 'brown', 'dog', 'slept', 'on', 'the', 'rug.the', 'cat', 'did', 'not', 'cross', 'the', 'street', 'because', 'it', 'was', 'too', 'wet.the', 'dog', 'sat', 'on', 'the', 'couch', 'near', 'the', 'rug', '.'], ['the', 'black', 'cat', 'sat', 'on', 'the', 'couch', 'and', 'the', 'brown', 'dog', 'slept', 'on', 'the', 'rug.the', 'cat', 'did', 'not', 'cross', 'the', 'street', 'because', 'it', 'was', 'too', 'wet.the', 'dog', 'sat', 'on', 'the', 'couch', 'near', 'the', 'rug', '.'], ['the', 'black', 'cat', 'sat', 'on', 'the', 'couch', 'and', 'the', 'brown', 'dog', 'slept', 'on', 'the', 'rug.the', 'cat', 'did', 'not', 'cross', 'the', 'street', 'because', 'it', 'was', 'too', 'wet.the', 'dog', 'sat', 'on', 'the', 'couch', 'near', 'the', 'rug', '.'], ['the', 'black', 'cat', 'sat', 'on', 'the', 'couch', 'and', 'the', 'brown', 'dog', 'slept', 'on', 'the', 'rug.the', 'cat', 'did', 'not', 'cross', 'the', 'street', 'because', 'it', 'was', 'too', 'wet.the', 'dog', 'sat', 'on', 'the', 'couch', 'near', 'the', 'rug', '.'], ['the', 'black', 'cat', 'sat', 'on', 'the', 'couch', 'and', 'the', 'brown', 'dog', 'slept', 'on', 'the', 'rug.the', 'cat', 'did', 'not', 'cross', 'the', 'street', 'because', 'it', 'was', 'too', 'wet.the', 'dog', 'sat', 'on', 'the', 'couch', 'near', 'the', 'rug', '.'], ['the', 'black', 'cat', 'sat', 'on', 'the', 'couch', 'and', 'the', 'brown', 'dog', 'slept', 'on', 'the', 'rug.the', 'cat', 'did', 'not', 'cross', 'the', 'street', 'because', 'it', 'was', 'too', 'wet.the', 'dog', 'sat', 'on', 'the', 'couch', 'near', 'the', 'rug', '.'], ['the', 'black', 'cat', 'sat', 'on', 'the', 'couch', 'and', 'the', 'brown', 'dog', 'slept', 'on', 'the', 'rug.the', 'cat', 'did', 'not', 'cross', 'the', 'street', 'because', 'it', 'was', 'too', 'wet.the', 'dog', 'sat', 'on', 'the', 'couch', 'near', 'the', 'rug', '.'], ['the', 'black', 'cat', 'sat', 'on', 'the', 'couch', 'and', 'the', 'brown', 'dog', 'slept', 'on', 'the', 'rug.the', 'cat', 'did', 'not', 'cross', 'the', 'street', 'because', 'it', 'was', 'too', 'wet.the', 'dog', 'sat', 'on', 'the', 'couch', 'near', 'the', 'rug', '.'], ['the', 'black', 'cat', 'sat', 'on', 'the', 'couch', 'and', 'the', 'brown', 'dog', 'slept', 'on', 'the', 'rug.the', 'cat', 'did', 'not', 'cross', 'the', 'street', 'because', 'it', 'was', 'too', 'wet.the', 'dog', 'sat', 'on', 'the', 'couch', 'near', 'the', 'rug', '.'], ['the', 'black', 'cat', 'sat', 'on', 'the', 'couch', 'and', 'the', 'brown', 'dog', 'slept', 'on', 'the', 'rug.the', 'cat', 'did', 'not', 'cross', 'the', 'street', 'because', 'it', 'was', 'too', 'wet.the', 'dog', 'sat', 'on', 'the', 'couch', 'near', 'the', 'rug', '.'], ['the', 'black', 'cat', 'sat', 'on', 'the', 'couch', 'and', 'the', 'brown', 'dog', 'slept', 'on', 'the', 'rug.the', 'cat', 'did', 'not', 'cross', 'the', 'street', 'because', 'it', 'was', 'too', 'wet.the', 'dog', 'sat', 'on', 'the', 'couch', 'near', 'the', 'rug', '.'], ['the', 'black', 'cat', 'sat', 'on', 'the', 'couch', 'and', 'the', 'brown', 'dog', 'slept', 'on', 'the', 'rug.the', 'cat', 'did', 'not', 'cross', 'the', 'street', 'because', 'it', 'was', 'too', 'wet.the', 'dog', 'sat', 'on', 'the', 'couch', 'near', 'the', 'rug', '.'], ['the', 'black', 'cat', 'sat', 'on', 'the', 'couch', 'and', 'the', 'brown', 'dog', 'slept', 'on', 'the', 'rug.the', 'cat', 'did', 'not', 'cross', 'the', 'street', 'because', 'it', 'was', 'too', 'wet.the', 'dog', 'sat', 'on', 'the', 'couch', 'near', 'the', 'rug', '.'], ['the', 'black', 'cat', 'sat', 'on', 'the', 'couch', 'and', 'the', 'brown', 'dog', 'slept', 'on', 'the', 'rug.the', 'cat', 'did', 'not', 'cross', 'the', 'street', 'because', 'it', 'was', 'too', 'wet.the', 'dog', 'sat', 'on', 'the', 'couch', 'near', 'the', 'rug', '.'], ['the', 'black', 'cat', 'sat', 'on', 'the', 'couch', 'and', 'the', 'brown', 'dog', 'slept', 'on', 'the', 'rug.the', 'cat', 'did', 'not', 'cross', 'the', 'street', 'because', 'it', 'was', 'too', 'wet.the', 'dog', 'sat', 'on', 'the', 'couch', 'near', 'the', 'rug', '.'], ['the', 'black', 'cat', 'sat', 'on', 'the', 'couch', 'and', 'the', 'brown', 'dog', 'slept', 'on', 'the', 'rug.the', 'cat', 'did', 'not', 'cross', 'the', 'street', 'because', 'it', 'was', 'too', 'wet.the', 'dog', 'sat', 'on', 'the', 'couch', 'near', 'the', 'rug', '.'], ['the', 'black', 'cat', 'sat', 'on', 'the', 'couch', 'and', 'the', 'brown', 'dog', 'slept', 'on', 'the', 'rug.the', 'cat', 'did', 'not', 'cross', 'the', 'street', 'because', 'it', 'was', 'too', 'wet.the', 'dog', 'sat', 'on', 'the', 'couch', 'near', 'the', 'rug', '.'], ['the', 'black', 'cat', 'sat', 'on', 'the', 'couch', 'and', 'the', 'brown', 'dog', 'slept', 'on', 'the', 'rug.the', 'cat', 'did', 'not', 'cross', 'the', 'street', 'because', 'it', 'was', 'too', 'wet.the', 'dog', 'sat', 'on', 'the', 'couch', 'near', 'the', 'rug', '.'], ['the', 'black', 'cat', 'sat', 'on', 'the', 'couch', 'and', 'the', 'brown', 'dog', 'slept', 'on', 'the', 'rug.the', 'cat', 'did', 'not', 'cross', 'the', 'street', 'because', 'it', 'was', 'too', 'wet.the', 'dog', 'sat', 'on', 'the', 'couch', 'near', 'the', 'rug', '.'], ['the', 'black', 'cat', 'sat', 'on', 'the', 'couch', 'and', 'the', 'brown', 'dog', 'slept', 'on', 'the', 'rug.the', 'cat', 'did', 'not', 'cross', 'the', 'street', 'because', 'it', 'was', 'too', 'wet.the', 'dog', 'sat', 'on', 'the', 'couch', 'near', 'the', 'rug', '.'], ['the', 'black', 'cat', 'sat', 'on', 'the', 'couch', 'and', 'the', 'brown', 'dog', 'slept', 'on', 'the', 'rug.the', 'cat', 'did', 'not', 'cross', 'the', 'street', 'because', 'it', 'was', 'too', 'wet.the', 'dog', 'sat', 'on', 'the', 'couch', 'near', 'the', 'rug', '.'], ['the', 'black', 'cat', 'sat', 'on', 'the', 'couch', 'and', 'the', 'brown', 'dog', 'slept', 'on', 'the', 'rug.the', 'cat', 'did', 'not', 'cross', 'the', 'street', 'because', 'it', 'was', 'too', 'wet.the', 'dog', 'sat', 'on', 'the', 'couch', 'near', 'the', 'rug', '.'], ['the', 'black', 'cat', 'sat', 'on', 'the', 'couch', 'and', 'the', 'brown', 'dog', 'slept', 'on', 'the', 'rug.the', 'cat', 'did', 'not', 'cross', 'the', 'street', 'because', 'it', 'was', 'too', 'wet.the', 'dog', 'sat', 'on', 'the', 'couch', 'near', 'the', 'rug', '.'], ['the', 'black', 'cat', 'sat', 'on', 'the', 'couch', 'and', 'the', 'brown', 'dog', 'slept', 'on', 'the', 'rug.the', 'cat', 'did', 'not', 'cross', 'the', 'street', 'because', 'it', 'was', 'too', 'wet.the', 'dog', 'sat', 'on', 'the', 'couch', 'near', 'the', 'rug', '.'], ['the', 'black', 'cat', 'sat', 'on', 'the', 'couch', 'and', 'the', 'brown', 'dog', 'slept', 'on', 'the', 'rug.the', 'cat', 'did', 'not', 'cross', 'the', 'street', 'because', 'it', 'was', 'too', 'wet.the', 'dog', 'sat', 'on', 'the', 'couch', 'near', 'the', 'rug', '.'], ['the', 'black', 'cat', 'sat', 'on', 'the', 'couch', 'and', 'the', 'brown', 'dog', 'slept', 'on', 'the', 'rug.the', 'cat', 'did', 'not', 'cross', 'the', 'street', 'because', 'it', 'was', 'too', 'wet.the', 'dog', 'sat', 'on', 'the', 'couch', 'near', 'the', 'rug', '.'], ['the', 'black', 'cat', 'sat', 'on', 'the', 'couch', 'and', 'the', 'brown', 'dog', 'slept', 'on', 'the', 'rug.the', 'cat', 'did', 'not', 'cross', 'the', 'street', 'because', 'it', 'was', 'too', 'wet.the', 'dog', 'sat', 'on', 'the', 'couch', 'near', 'the', 'rug', '.'], ['the', 'black', 'cat', 'sat', 'on', 'the', 'couch', 'and', 'the', 'brown', 'dog', 'slept', 'on', 'the', 'rug.the', 'cat', 'did', 'not', 'cross', 'the', 'street', 'because', 'it', 'was', 'too', 'wet.the', 'dog', 'sat', 'on', 'the', 'couch', 'near', 'the', 'rug', '.'], ['the', 'black', 'cat', 'sat', 'on', 'the', 'couch', 'and', 'the', 'brown', 'dog', 'slept', 'on', 'the', 'rug.the', 'cat', 'did', 'not', 'cross', 'the', 'street', 'because', 'it', 'was', 'too', 'wet.the', 'dog', 'sat', 'on', 'the', 'couch', 'near', 'the', 'rug', '.'], ['the', 'black', 'cat', 'sat', 'on', 'the', 'couch', 'and', 'the', 'brown', 'dog', 'slept', 'on', 'the', 'rug.the', 'cat', 'did', 'not', 'cross', 'the', 'street', 'because', 'it', 'was', 'too', 'wet.the', 'dog', 'sat', 'on', 'the', 'couch', 'near', 'the', 'rug', '.'], ['the', 'black', 'cat', 'sat', 'on', 'the', 'couch', 'and', 'the', 'brown', 'dog', 'slept', 'on', 'the', 'rug.the', 'cat', 'did', 'not', 'cross', 'the', 'street', 'because', 'it', 'was', 'too', 'wet.the', 'dog', 'sat', 'on', 'the', 'couch', 'near', 'the', 'rug', '.'], ['the', 'black', 'cat', 'sat', 'on', 'the', 'couch', 'and', 'the', 'brown', 'dog', 'slept', 'on', 'the', 'rug.the', 'cat', 'did', 'not', 'cross', 'the', 'street', 'because', 'it', 'was', 'too', 'wet.the', 'dog', 'sat', 'on', 'the', 'couch', 'near', 'the', 'rug', '.'], ['the', 'black', 'cat', 'sat', 'on', 'the', 'couch', 'and', 'the', 'brown', 'dog', 'slept', 'on', 'the', 'rug.the', 'cat', 'did', 'not', 'cross', 'the', 'street', 'because', 'it', 'was', 'too', 'wet.the', 'dog', 'sat', 'on', 'the', 'couch', 'near', 'the', 'rug', '.'], ['the', 'black', 'cat', 'sat', 'on', 'the', 'couch', 'and', 'the', 'brown', 'dog', 'slept', 'on', 'the', 'rug.the', 'cat', 'did', 'not', 'cross', 'the', 'street', 'because', 'it', 'was', 'too', 'wet.the', 'dog', 'sat', 'on', 'the', 'couch', 'near', 'the', 'rug', '.'], ['the', 'black', 'cat', 'sat', 'on', 'the', 'couch', 'and', 'the', 'brown', 'dog', 'slept', 'on', 'the', 'rug.the', 'cat', 'did', 'not', 'cross', 'the', 'street', 'because', 'it', 'was', 'too', 'wet.the', 'dog', 'sat', 'on', 'the', 'couch', 'near', 'the', 'rug', '.'], ['the', 'black', 'cat', 'sat', 'on', 'the', 'couch', 'and', 'the', 'brown', 'dog', 'slept', 'on', 'the', 'rug.the', 'cat', 'did', 'not', 'cross', 'the', 'street', 'because', 'it', 'was', 'too', 'wet.the', 'dog', 'sat', 'on', 'the', 'couch', 'near', 'the', 'rug', '.'], ['the', 'black', 'cat', 'sat', 'on', 'the', 'couch', 'and', 'the', 'brown', 'dog', 'slept', 'on', 'the', 'rug.the', 'cat', 'did', 'not', 'cross', 'the', 'street', 'because', 'it', 'was', 'too', 'wet.the', 'dog', 'sat', 'on', 'the', 'couch', 'near', 'the', 'rug', '.'], ['the', 'black', 'cat', 'sat', 'on', 'the', 'couch', 'and', 'the', 'brown', 'dog', 'slept', 'on', 'the', 'rug.the', 'cat', 'did', 'not', 'cross', 'the', 'street', 'because', 'it', 'was', 'too', 'wet.the', 'dog', 'sat', 'on', 'the', 'couch', 'near', 'the', 'rug', '.'], ['the', 'black', 'cat', 'sat', 'on', 'the', 'couch', 'and', 'the', 'brown', 'dog', 'slept', 'on', 'the', 'rug.the', 'cat', 'did', 'not', 'cross', 'the', 'street', 'because', 'it', 'was', 'too', 'wet.the', 'dog', 'sat', 'on', 'the', 'couch', 'near', 'the', 'rug', '.'], ['the', 'black', 'cat', 'sat', 'on', 'the', 'couch', 'and', 'the', 'brown', 'dog', 'slept', 'on', 'the', 'rug.the', 'cat', 'did', 'not', 'cross', 'the', 'street', 'because', 'it', 'was', 'too', 'wet.the', 'dog', 'sat', 'on', 'the', 'couch', 'near', 'the', 'rug', '.'], ['the', 'black', 'cat', 'sat', 'on', 'the', 'couch', 'and', 'the', 'brown', 'dog', 'slept', 'on', 'the', 'rug.the', 'cat', 'did', 'not', 'cross', 'the', 'street', 'because', 'it', 'was', 'too', 'wet.the', 'dog', 'sat', 'on', 'the', 'couch', 'near', 'the', 'rug', '.'], ['the', 'black', 'cat', 'sat', 'on', 'the', 'couch', 'and', 'the', 'brown', 'dog', 'slept', 'on', 'the', 'rug.the', 'cat', 'did', 'not', 'cross', 'the', 'street', 'because', 'it', 'was', 'too', 'wet.the', 'dog', 'sat', 'on', 'the', 'couch', 'near', 'the', 'rug', '.'], ['the', 'black', 'cat', 'sat', 'on', 'the', 'couch', 'and', 'the', 'brown', 'dog', 'slept', 'on', 'the', 'rug.the', 'cat', 'did', 'not', 'cross', 'the', 'street', 'because', 'it', 'was', 'too', 'wet.the', 'dog', 'sat', 'on', 'the', 'couch', 'near', 'the', 'rug', '.'], ['the', 'black', 'cat', 'sat', 'on', 'the', 'couch', 'and', 'the', 'brown', 'dog', 'slept', 'on', 'the', 'rug.the', 'cat', 'did', 'not', 'cross', 'the', 'street', 'because', 'it', 'was', 'too', 'wet.the', 'dog', 'sat', 'on', 'the', 'couch', 'near', 'the', 'rug', '.'], ['the', 'black', 'cat', 'sat', 'on', 'the', 'couch', 'and', 'the', 'brown', 'dog', 'slept', 'on', 'the', 'rug.the', 'cat', 'did', 'not', 'cross', 'the', 'street', 'because', 'it', 'was', 'too', 'wet.the', 'dog', 'sat', 'on', 'the', 'couch', 'near', 'the', 'rug', '.'], ['the', 'black', 'cat', 'sat', 'on', 'the', 'couch', 'and', 'the', 'brown', 'dog', 'slept', 'on', 'the', 'rug.the', 'cat', 'did', 'not', 'cross', 'the', 'street', 'because', 'it', 'was', 'too', 'wet.the', 'dog', 'sat', 'on', 'the', 'couch', 'near', 'the', 'rug', '.'], ['the', 'black', 'cat', 'sat', 'on', 'the', 'couch', 'and', 'the', 'brown', 'dog', 'slept', 'on', 'the', 'rug.the', 'cat', 'did', 'not', 'cross', 'the', 'street', 'because', 'it', 'was', 'too', 'wet.the', 'dog', 'sat', 'on', 'the', 'couch', 'near', 'the', 'rug', '.'], ['the', 'black', 'cat', 'sat', 'on', 'the', 'couch', 'and', 'the', 'brown', 'dog', 'slept', 'on', 'the', 'rug.the', 'cat', 'did', 'not', 'cross', 'the', 'street', 'because', 'it', 'was', 'too', 'wet.the', 'dog', 'sat', 'on', 'the', 'couch', 'near', 'the', 'rug', '.'], ['the', 'black', 'cat', 'sat', 'on', 'the', 'couch', 'and', 'the', 'brown', 'dog', 'slept', 'on', 'the', 'rug.the', 'cat', 'did', 'not', 'cross', 'the', 'street', 'because', 'it', 'was', 'too', 'wet.the', 'dog', 'sat', 'on', 'the', 'couch', 'near', 'the', 'rug', '.'], ['the', 'black', 'cat', 'sat', 'on', 'the', 'couch', 'and', 'the', 'brown', 'dog', 'slept', 'on', 'the', 'rug.the', 'cat', 'did', 'not', 'cross', 'the', 'street', 'because', 'it', 'was', 'too', 'wet.the', 'dog', 'sat', 'on', 'the', 'couch', 'near', 'the', 'rug', '.'], ['the', 'black', 'cat', 'sat', 'on', 'the', 'couch', 'and', 'the', 'brown', 'dog', 'slept', 'on', 'the', 'rug.the', 'cat', 'did', 'not', 'cross', 'the', 'street', 'because', 'it', 'was', 'too', 'wet.the', 'dog', 'sat', 'on', 'the', 'couch', 'near', 'the', 'rug', '.'], ['the', 'black', 'cat', 'sat', 'on', 'the', 'couch', 'and', 'the', 'brown', 'dog', 'slept', 'on', 'the', 'rug.the', 'cat', 'did', 'not', 'cross', 'the', 'street', 'because', 'it', 'was', 'too', 'wet.the', 'dog', 'sat', 'on', 'the', 'couch', 'near', 'the', 'rug', '.'], ['the', 'black', 'cat', 'sat', 'on', 'the', 'couch', 'and', 'the', 'brown', 'dog', 'slept', 'on', 'the', 'rug.the', 'cat', 'did', 'not', 'cross', 'the', 'street', 'because', 'it', 'was', 'too', 'wet.the', 'dog', 'sat', 'on', 'the', 'couch', 'near', 'the', 'rug', '.'], ['the', 'black', 'cat', 'sat', 'on', 'the', 'couch', 'and', 'the', 'brown', 'dog', 'slept', 'on', 'the', 'rug.the', 'cat', 'did', 'not', 'cross', 'the', 'street', 'because', 'it', 'was', 'too', 'wet.the', 'dog', 'sat', 'on', 'the', 'couch', 'near', 'the', 'rug', '.'], ['the', 'black', 'cat', 'sat', 'on', 'the', 'couch', 'and', 'the', 'brown', 'dog', 'slept', 'on', 'the', 'rug.the', 'cat', 'did', 'not', 'cross', 'the', 'street', 'because', 'it', 'was', 'too', 'wet.the', 'dog', 'sat', 'on', 'the', 'couch', 'near', 'the', 'rug', '.'], ['the', 'black', 'cat', 'sat', 'on', 'the', 'couch', 'and', 'the', 'brown', 'dog', 'slept', 'on', 'the', 'rug.the', 'cat', 'did', 'not', 'cross', 'the', 'street', 'because', 'it', 'was', 'too', 'wet.the', 'dog', 'sat', 'on', 'the', 'couch', 'near', 'the', 'rug', '.'], ['the', 'black', 'cat', 'sat', 'on', 'the', 'couch', 'and', 'the', 'brown', 'dog', 'slept', 'on', 'the', 'rug.the', 'cat', 'did', 'not', 'cross', 'the', 'street', 'because', 'it', 'was', 'too', 'wet.the', 'dog', 'sat', 'on', 'the', 'couch', 'near', 'the', 'rug', '.'], ['the', 'black', 'cat', 'sat', 'on', 'the', 'couch', 'and', 'the', 'brown', 'dog', 'slept', 'on', 'the', 'rug.the', 'cat', 'did', 'not', 'cross', 'the', 'street', 'because', 'it', 'was', 'too', 'wet.the', 'dog', 'sat', 'on', 'the', 'couch', 'near', 'the', 'rug', '.'], ['the', 'black', 'cat', 'sat', 'on', 'the', 'couch', 'and', 'the', 'brown', 'dog', 'slept', 'on', 'the', 'rug.the', 'cat', 'did', 'not', 'cross', 'the', 'street', 'because', 'it', 'was', 'too', 'wet.the', 'dog', 'sat', 'on', 'the', 'couch', 'near', 'the', 'rug', '.'], ['the', 'black', 'cat', 'sat', 'on', 'the', 'couch', 'and', 'the', 'brown', 'dog', 'slept', 'on', 'the', 'rug.the', 'cat', 'did', 'not', 'cross', 'the', 'street', 'because', 'it', 'was', 'too', 'wet.the', 'dog', 'sat', 'on', 'the', 'couch', 'near', 'the', 'rug', '.'], ['the', 'black', 'cat', 'sat', 'on', 'the', 'couch', 'and', 'the', 'brown', 'dog', 'slept', 'on', 'the', 'rug.the', 'cat', 'did', 'not', 'cross', 'the', 'street', 'because', 'it', 'was', 'too', 'wet.the', 'dog', 'sat', 'on', 'the', 'couch', 'near', 'the', 'rug', '.'], ['the', 'black', 'cat', 'sat', 'on', 'the', 'couch', 'and', 'the', 'brown', 'dog', 'slept', 'on', 'the', 'rug.the', 'cat', 'did', 'not', 'cross', 'the', 'street', 'because', 'it', 'was', 'too', 'wet.the', 'dog', 'sat', 'on', 'the', 'couch', 'near', 'the', 'rug', '.'], ['the', 'black', 'cat', 'sat', 'on', 'the', 'couch', 'and', 'the', 'brown', 'dog', 'slept', 'on', 'the', 'rug.the', 'cat', 'did', 'not', 'cross', 'the', 'street', 'because', 'it', 'was', 'too', 'wet.the', 'dog', 'sat', 'on', 'the', 'couch', 'near', 'the', 'rug', '.'], ['the', 'black', 'cat', 'sat', 'on', 'the', 'couch', 'and', 'the', 'brown', 'dog', 'slept', 'on', 'the', 'rug.the', 'cat', 'did', 'not', 'cross', 'the', 'street', 'because', 'it', 'was', 'too', 'wet.the', 'dog', 'sat', 'on', 'the', 'couch', 'near', 'the', 'rug', '.'], ['the', 'black', 'cat', 'sat', 'on', 'the', 'couch', 'and', 'the', 'brown', 'dog', 'slept', 'on', 'the', 'rug.the', 'cat', 'did', 'not', 'cross', 'the', 'street', 'because', 'it', 'was', 'too', 'wet.the', 'dog', 'sat', 'on', 'the', 'couch', 'near', 'the', 'rug', '.'], ['the', 'black', 'cat', 'sat', 'on', 'the', 'couch', 'and', 'the', 'brown', 'dog', 'slept', 'on', 'the', 'rug.the', 'cat', 'did', 'not', 'cross', 'the', 'street', 'because', 'it', 'was', 'too', 'wet.the', 'dog', 'sat', 'on', 'the', 'couch', 'near', 'the', 'rug', '.'], ['the', 'black', 'cat', 'sat', 'on', 'the', 'couch', 'and', 'the', 'brown', 'dog', 'slept', 'on', 'the', 'rug.the', 'cat', 'did', 'not', 'cross', 'the', 'street', 'because', 'it', 'was', 'too', 'wet.the', 'dog', 'sat', 'on', 'the', 'couch', 'near', 'the', 'rug', '.'], ['the', 'black', 'cat', 'sat', 'on', 'the', 'couch', 'and', 'the', 'brown', 'dog', 'slept', 'on', 'the', 'rug.the', 'cat', 'did', 'not', 'cross', 'the', 'street', 'because', 'it', 'was', 'too', 'wet.the', 'dog', 'sat', 'on', 'the', 'couch', 'near', 'the', 'rug', '.'], ['the', 'black', 'cat', 'sat', 'on', 'the', 'couch', 'and', 'the', 'brown', 'dog', 'slept', 'on', 'the', 'rug.the', 'cat', 'did', 'not', 'cross', 'the', 'street', 'because', 'it', 'was', 'too', 'wet.the', 'dog', 'sat', 'on', 'the', 'couch', 'near', 'the', 'rug', '.'], ['the', 'black', 'cat', 'sat', 'on', 'the', 'couch', 'and', 'the', 'brown', 'dog', 'slept', 'on', 'the', 'rug.the', 'cat', 'did', 'not', 'cross', 'the', 'street', 'because', 'it', 'was', 'too', 'wet.the', 'dog', 'sat', 'on', 'the', 'couch', 'near', 'the', 'rug', '.'], ['the', 'black', 'cat', 'sat', 'on', 'the', 'couch', 'and', 'the', 'brown', 'dog', 'slept', 'on', 'the', 'rug.the', 'cat', 'did', 'not', 'cross', 'the', 'street', 'because', 'it', 'was', 'too', 'wet.the', 'dog', 'sat', 'on', 'the', 'couch', 'near', 'the', 'rug', '.'], ['the', 'black', 'cat', 'sat', 'on', 'the', 'couch', 'and', 'the', 'brown', 'dog', 'slept', 'on', 'the', 'rug.the', 'cat', 'did', 'not', 'cross', 'the', 'street', 'because', 'it', 'was', 'too', 'wet.the', 'dog', 'sat', 'on', 'the', 'couch', 'near', 'the', 'rug', '.'], ['the', 'black', 'cat', 'sat', 'on', 'the', 'couch', 'and', 'the', 'brown', 'dog', 'slept', 'on', 'the', 'rug.the', 'cat', 'did', 'not', 'cross', 'the', 'street', 'because', 'it', 'was', 'too', 'wet.the', 'dog', 'sat', 'on', 'the', 'couch', 'near', 'the', 'rug', '.'], ['the', 'black', 'cat', 'sat', 'on', 'the', 'couch', 'and', 'the', 'brown', 'dog', 'slept', 'on', 'the', 'rug.the', 'cat', 'did', 'not', 'cross', 'the', 'street', 'because', 'it', 'was', 'too', 'wet.the', 'dog', 'sat', 'on', 'the', 'couch', 'near', 'the', 'rug', '.'], ['the', 'black', 'cat', 'sat', 'on', 'the', 'couch', 'and', 'the', 'brown', 'dog', 'slept', 'on', 'the', 'rug.the', 'cat', 'did', 'not', 'cross', 'the', 'street', 'because', 'it', 'was', 'too', 'wet.the', 'dog', 'sat', 'on', 'the', 'couch', 'near', 'the', 'rug', '.'], ['the', 'black', 'cat', 'sat', 'on', 'the', 'couch', 'and', 'the', 'brown', 'dog', 'slept', 'on', 'the', 'rug.the', 'cat', 'did', 'not', 'cross', 'the', 'street', 'because', 'it', 'was', 'too', 'wet.the', 'dog', 'sat', 'on', 'the', 'couch', 'near', 'the', 'rug', '.'], ['the', 'black', 'cat', 'sat', 'on', 'the', 'couch', 'and', 'the', 'brown', 'dog', 'slept', 'on', 'the', 'rug.the', 'cat', 'did', 'not', 'cross', 'the', 'street', 'because', 'it', 'was', 'too', 'wet.the', 'dog', 'sat', 'on', 'the', 'couch', 'near', 'the', 'rug', '.'], ['the', 'black', 'cat', 'sat', 'on', 'the', 'couch', 'and', 'the', 'brown', 'dog', 'slept', 'on', 'the', 'rug.the', 'cat', 'did', 'not', 'cross', 'the', 'street', 'because', 'it', 'was', 'too', 'wet.the', 'dog', 'sat', 'on', 'the', 'couch', 'near', 'the', 'rug', '.'], ['the', 'black', 'cat', 'sat', 'on', 'the', 'couch', 'and', 'the', 'brown', 'dog', 'slept', 'on', 'the', 'rug.the', 'cat', 'did', 'not', 'cross', 'the', 'street', 'because', 'it', 'was', 'too', 'wet.the', 'dog', 'sat', 'on', 'the', 'couch', 'near', 'the', 'rug', '.'], ['the', 'black', 'cat', 'sat', 'on', 'the', 'couch', 'and', 'the', 'brown', 'dog', 'slept', 'on', 'the', 'rug.the', 'cat', 'did', 'not', 'cross', 'the', 'street', 'because', 'it', 'was', 'too', 'wet.the', 'dog', 'sat', 'on', 'the', 'couch', 'near', 'the', 'rug', '.'], ['the', 'black', 'cat', 'sat', 'on', 'the', 'couch', 'and', 'the', 'brown', 'dog', 'slept', 'on', 'the', 'rug.the', 'cat', 'did', 'not', 'cross', 'the', 'street', 'because', 'it', 'was', 'too', 'wet.the', 'dog', 'sat', 'on', 'the', 'couch', 'near', 'the', 'rug', '.'], ['the', 'black', 'cat', 'sat', 'on', 'the', 'couch', 'and', 'the', 'brown', 'dog', 'slept', 'on', 'the', 'rug.the', 'cat', 'did', 'not', 'cross', 'the', 'street', 'because', 'it', 'was', 'too', 'wet.the', 'dog', 'sat', 'on', 'the', 'couch', 'near', 'the', 'rug', '.'], ['the', 'black', 'cat', 'sat', 'on', 'the', 'couch', 'and', 'the', 'brown', 'dog', 'slept', 'on', 'the', 'rug.the', 'cat', 'did', 'not', 'cross', 'the', 'street', 'because', 'it', 'was', 'too', 'wet.the', 'dog', 'sat', 'on', 'the', 'couch', 'near', 'the', 'rug', '.'], ['the', 'black', 'cat', 'sat', 'on', 'the', 'couch', 'and', 'the', 'brown', 'dog', 'slept', 'on', 'the', 'rug.the', 'cat', 'did', 'not', 'cross', 'the', 'street', 'because', 'it', 'was', 'too', 'wet.the', 'dog', 'sat', 'on', 'the', 'couch', 'near', 'the', 'rug', '.'], ['the', 'black', 'cat', 'sat', 'on', 'the', 'couch', 'and', 'the', 'brown', 'dog', 'slept', 'on', 'the', 'rug.the', 'cat', 'did', 'not', 'cross', 'the', 'street', 'because', 'it', 'was', 'too', 'wet.the', 'dog', 'sat', 'on', 'the', 'couch', 'near', 'the', 'rug', '.'], ['the', 'black', 'cat', 'sat', 'on', 'the', 'couch', 'and', 'the', 'brown', 'dog', 'slept', 'on', 'the', 'rug.the', 'cat', 'did', 'not', 'cross', 'the', 'street', 'because', 'it', 'was', 'too', 'wet.the', 'dog', 'sat', 'on', 'the', 'couch', 'near', 'the', 'rug', '.'], ['the', 'black', 'cat', 'sat', 'on', 'the', 'couch', 'and', 'the', 'brown', 'dog', 'slept', 'on', 'the', 'rug.the', 'cat', 'did', 'not', 'cross', 'the', 'street', 'because', 'it', 'was', 'too', 'wet.the', 'dog', 'sat', 'on', 'the', 'couch', 'near', 'the', 'rug', '.'], ['the', 'black', 'cat', 'sat', 'on', 'the', 'couch', 'and', 'the', 'brown', 'dog', 'slept', 'on', 'the', 'rug.the', 'cat', 'did', 'not', 'cross', 'the', 'street', 'because', 'it', 'was', 'too', 'wet.the', 'dog', 'sat', 'on', 'the', 'couch', 'near', 'the', 'rug', '.'], ['the', 'black', 'cat', 'sat', 'on', 'the', 'couch', 'and', 'the', 'brown', 'dog', 'slept', 'on', 'the', 'rug.the', 'cat', 'did', 'not', 'cross', 'the', 'street', 'because', 'it', 'was', 'too', 'wet.the', 'dog', 'sat', 'on', 'the', 'couch', 'near', 'the', 'rug', '.'], ['the', 'black', 'cat', 'sat', 'on', 'the', 'couch', 'and', 'the', 'brown', 'dog', 'slept', 'on', 'the', 'rug.the', 'cat', 'did', 'not', 'cross', 'the', 'street', 'because', 'it', 'was', 'too', 'wet.the', 'dog', 'sat', 'on', 'the', 'couch', 'near', 'the', 'rug', '.'], ['the', 'black', 'cat', 'sat', 'on', 'the', 'couch', 'and', 'the', 'brown', 'dog', 'slept', 'on', 'the', 'rug.the', 'cat', 'did', 'not', 'cross', 'the', 'street', 'because', 'it', 'was', 'too', 'wet.the', 'dog', 'sat', 'on', 'the', 'couch', 'near', 'the', 'rug', '.'], ['the', 'black', 'cat', 'sat', 'on', 'the', 'couch', 'and', 'the', 'brown', 'dog', 'slept', 'on', 'the', 'rug.the', 'cat', 'did', 'not', 'cross', 'the', 'street', 'because', 'it', 'was', 'too', 'wet.the', 'dog', 'sat', 'on', 'the', 'couch', 'near', 'the', 'rug', '.'], ['the', 'black', 'cat', 'sat', 'on', 'the', 'couch', 'and', 'the', 'brown', 'dog', 'slept', 'on', 'the', 'rug.the', 'cat', 'did', 'not', 'cross', 'the', 'street', 'because', 'it', 'was', 'too', 'wet.the', 'dog', 'sat', 'on', 'the', 'couch', 'near', 'the', 'rug', '.'], ['the', 'black', 'cat', 'sat', 'on', 'the', 'couch', 'and', 'the', 'brown', 'dog', 'slept', 'on', 'the', 'rug.the', 'cat', 'did', 'not', 'cross', 'the', 'street', 'because', 'it', 'was', 'too', 'wet.the', 'dog', 'sat', 'on', 'the', 'couch', 'near', 'the', 'rug', '.'], ['the', 'black', 'cat', 'sat', 'on', 'the', 'couch', 'and', 'the', 'brown', 'dog', 'slept', 'on', 'the', 'rug.the', 'cat', 'did', 'not', 'cross', 'the', 'street', 'because', 'it', 'was', 'too', 'wet.the', 'dog', 'sat', 'on', 'the', 'couch', 'near', 'the', 'rug', '.'], ['the', 'black', 'cat', 'sat', 'on', 'the', 'couch', 'and', 'the', 'brown', 'dog', 'slept', 'on', 'the', 'rug.the', 'cat', 'did', 'not', 'cross', 'the', 'street', 'because', 'it', 'was', 'too', 'wet.the', 'dog', 'sat', 'on', 'the', 'couch', 'near', 'the', 'rug', '.'], ['the', 'black', 'cat', 'sat', 'on', 'the', 'couch', 'and', 'the', 'brown', 'dog', 'slept', 'on', 'the', 'rug.the', 'cat', 'did', 'not', 'cross', 'the', 'street', 'because', 'it', 'was', 'too', 'wet.the', 'dog', 'sat', 'on', 'the', 'couch', 'near', 'the', 'rug', '.'], ['the', 'black', 'cat', 'sat', 'on', 'the', 'couch', 'and', 'the', 'brown', 'dog', 'slept', 'on', 'the', 'rug.the', 'cat', 'did', 'not', 'cross', 'the', 'street', 'because', 'it', 'was', 'too', 'wet.the', 'dog', 'sat', 'on', 'the', 'couch', 'near', 'the', 'rug', '.'], ['the', 'black', 'cat', 'sat', 'on', 'the', 'couch', 'and', 'the', 'brown', 'dog', 'slept', 'on', 'the', 'rug.the', 'cat', 'did', 'not', 'cross', 'the', 'street', 'because', 'it', 'was', 'too', 'wet.the', 'dog', 'sat', 'on', 'the', 'couch', 'near', 'the', 'rug', '.'], ['the', 'black', 'cat', 'sat', 'on', 'the', 'couch', 'and', 'the', 'brown', 'dog', 'slept', 'on', 'the', 'rug.the', 'cat', 'did', 'not', 'cross', 'the', 'street', 'because', 'it', 'was', 'too', 'wet.the', 'dog', 'sat', 'on', 'the', 'couch', 'near', 'the', 'rug', '.'], ['the', 'black', 'cat', 'sat', 'on', 'the', 'couch', 'and', 'the', 'brown', 'dog', 'slept', 'on', 'the', 'rug.the', 'cat', 'did', 'not', 'cross', 'the', 'street', 'because', 'it', 'was', 'too', 'wet.the', 'dog', 'sat', 'on', 'the', 'couch', 'near', 'the', 'rug', '.'], ['the', 'black', 'cat', 'sat', 'on', 'the', 'couch', 'and', 'the', 'brown', 'dog', 'slept', 'on', 'the', 'rug.the', 'cat', 'did', 'not', 'cross', 'the', 'street', 'because', 'it', 'was', 'too', 'wet.the', 'dog', 'sat', 'on', 'the', 'couch', 'near', 'the', 'rug', '.'], ['the', 'black', 'cat', 'sat', 'on', 'the', 'couch', 'and', 'the', 'brown', 'dog', 'slept', 'on', 'the', 'rug.the', 'cat', 'did', 'not', 'cross', 'the', 'street', 'because', 'it', 'was', 'too', 'wet.the', 'dog', 'sat', 'on', 'the', 'couch', 'near', 'the', 'rug', '.'], ['the', 'black', 'cat', 'sat', 'on', 'the', 'couch', 'and', 'the', 'brown', 'dog', 'slept', 'on', 'the', 'rug.the', 'cat', 'did', 'not', 'cross', 'the', 'street', 'because', 'it', 'was', 'too', 'wet.the', 'dog', 'sat', 'on', 'the', 'couch', 'near', 'the', 'rug', '.'], ['the', 'black', 'cat', 'sat', 'on', 'the', 'couch', 'and', 'the', 'brown', 'dog', 'slept', 'on', 'the', 'rug.the', 'cat', 'did', 'not', 'cross', 'the', 'street', 'because', 'it', 'was', 'too', 'wet.the', 'dog', 'sat', 'on', 'the', 'couch', 'near', 'the', 'rug', '.'], ['the', 'black', 'cat', 'sat', 'on', 'the', 'couch', 'and', 'the', 'brown', 'dog', 'slept', 'on', 'the', 'rug.the', 'cat', 'did', 'not', 'cross', 'the', 'street', 'because', 'it', 'was', 'too', 'wet.the', 'dog', 'sat', 'on', 'the', 'couch', 'near', 'the', 'rug', '.'], ['the', 'black', 'cat', 'sat', 'on', 'the', 'couch', 'and', 'the', 'brown', 'dog', 'slept', 'on', 'the', 'rug.the', 'cat', 'did', 'not', 'cross', 'the', 'street', 'because', 'it', 'was', 'too', 'wet.the', 'dog', 'sat', 'on', 'the', 'couch', 'near', 'the', 'rug', '.'], ['the', 'black', 'cat', 'sat', 'on', 'the', 'couch', 'and', 'the', 'brown', 'dog', 'slept', 'on', 'the', 'rug.the', 'cat', 'did', 'not', 'cross', 'the', 'street', 'because', 'it', 'was', 'too', 'wet.the', 'dog', 'sat', 'on', 'the', 'couch', 'near', 'the', 'rug', '.'], ['the', 'black', 'cat', 'sat', 'on', 'the', 'couch', 'and', 'the', 'brown', 'dog', 'slept', 'on', 'the', 'rug.the', 'cat', 'did', 'not', 'cross', 'the', 'street', 'because', 'it', 'was', 'too', 'wet.the', 'dog', 'sat', 'on', 'the', 'couch', 'near', 'the', 'rug', '.'], ['the', 'black', 'cat', 'sat', 'on', 'the', 'couch', 'and', 'the', 'brown', 'dog', 'slept', 'on', 'the', 'rug.the', 'cat', 'did', 'not', 'cross', 'the', 'street', 'because', 'it', 'was', 'too', 'wet.the', 'dog', 'sat', 'on', 'the', 'couch', 'near', 'the', 'rug', '.'], ['the', 'black', 'cat', 'sat', 'on', 'the', 'couch', 'and', 'the', 'brown', 'dog', 'slept', 'on', 'the', 'rug.the', 'cat', 'did', 'not', 'cross', 'the', 'street', 'because', 'it', 'was', 'too', 'wet.the', 'dog', 'sat', 'on', 'the', 'couch', 'near', 'the', 'rug', '.'], ['the', 'black', 'cat', 'sat', 'on', 'the', 'couch', 'and', 'the', 'brown', 'dog', 'slept', 'on', 'the', 'rug.the', 'cat', 'did', 'not', 'cross', 'the', 'street', 'because', 'it', 'was', 'too', 'wet.the', 'dog', 'sat', 'on', 'the', 'couch', 'near', 'the', 'rug', '.'], ['the', 'black', 'cat', 'sat', 'on', 'the', 'couch', 'and', 'the', 'brown', 'dog', 'slept', 'on', 'the', 'rug.the', 'cat', 'did', 'not', 'cross', 'the', 'street', 'because', 'it', 'was', 'too', 'wet.the', 'dog', 'sat', 'on', 'the', 'couch', 'near', 'the', 'rug', '.'], ['the', 'black', 'cat', 'sat', 'on', 'the', 'couch', 'and', 'the', 'brown', 'dog', 'slept', 'on', 'the', 'rug.the', 'cat', 'did', 'not', 'cross', 'the', 'street', 'because', 'it', 'was', 'too', 'wet.the', 'dog', 'sat', 'on', 'the', 'couch', 'near', 'the', 'rug', '.'], ['the', 'black', 'cat', 'sat', 'on', 'the', 'couch', 'and', 'the', 'brown', 'dog', 'slept', 'on', 'the', 'rug.the', 'cat', 'did', 'not', 'cross', 'the', 'street', 'because', 'it', 'was', 'too', 'wet.the', 'dog', 'sat', 'on', 'the', 'couch', 'near', 'the', 'rug', '.'], ['the', 'black', 'cat', 'sat', 'on', 'the', 'couch', 'and', 'the', 'brown', 'dog', 'slept', 'on', 'the', 'rug.the', 'cat', 'did', 'not', 'cross', 'the', 'street', 'because', 'it', 'was', 'too', 'wet.the', 'dog', 'sat', 'on', 'the', 'couch', 'near', 'the', 'rug', '.'], ['the', 'black', 'cat', 'sat', 'on', 'the', 'couch', 'and', 'the', 'brown', 'dog', 'slept', 'on', 'the', 'rug.the', 'cat', 'did', 'not', 'cross', 'the', 'street', 'because', 'it', 'was', 'too', 'wet.the', 'dog', 'sat', 'on', 'the', 'couch', 'near', 'the', 'rug', '.'], ['the', 'black', 'cat', 'sat', 'on', 'the', 'couch', 'and', 'the', 'brown', 'dog', 'slept', 'on', 'the', 'rug.the', 'cat', 'did', 'not', 'cross', 'the', 'street', 'because', 'it', 'was', 'too', 'wet.the', 'dog', 'sat', 'on', 'the', 'couch', 'near', 'the', 'rug', '.']]\n"
          ],
          "name": "stdout"
        }
      ]
    },
    {
      "cell_type": "code",
      "metadata": {
        "id": "BZjFA7UGJN_O"
      },
      "source": [
        "pe1 = aa.copy()\n",
        "pe2 = aa.copy()\n",
        "pe3 = aa.copy()\n",
        "paa = aa.copy()\n",
        "pba = ba.copy()\n",
        "\n",
        "\n",
        "\n",
        "d_model = 512 \n",
        "max_print = d_model \n",
        "max_length = 20 \n",
        "\n",
        "for i in range(0, max_print, 2):\n",
        "    # sine wave\n",
        "    pe1[0][i] = math.sin(pos1 / (10000 ** ((2 * i) / d_model)))\n",
        "    paa[0][i] = (paa[0][i]* math.sqrt(d_model)) + pe1[0][i]\n",
        "    # cosine wave \n",
        "    pe1[0][i+1] = math.cos(pos1 / (10000 ** ((2 * i) / d_model)))\n",
        "    paa[0][i+1] = (paa[0][i+1]* math.sqrt(d_model)) + pe1[0][i+1]\n",
        "\n",
        "\n",
        "\n"
      ],
      "execution_count": 47,
      "outputs": []
    },
    {
      "cell_type": "code",
      "metadata": {
        "id": "XlXyYWkwNbxA"
      },
      "source": [
        "# A method in pytorch using torch.exp and math.log \n",
        "\n",
        "max_len = max_length\n",
        "pe = torch.zeros(max_len, d_model)\n",
        "\n",
        "position = torch.arange(0, max_len, dtype=torch.float).unsqueeze(1)\n",
        "div_term = torch.exp(torch.arange(0, d_model, 2).float() * (-math.log(10000.0) / d_model))\n",
        "\n",
        "pe[:, 0::2] = torch.sin(position * div_term)\n",
        "pe[:, 1::2] = torch.cos(position * div_term)"
      ],
      "execution_count": 48,
      "outputs": []
    },
    {
      "cell_type": "code",
      "metadata": {
        "id": "OsQ0NrDQOhZ9"
      },
      "source": [
        "\n",
        "for i in range(0, max_print, 2):\n",
        "    # sine wave\n",
        "    pe2[0][i] = math.sin(pos2 / (10000 ** ((2 * i) / d_model)))\n",
        "    pba[0][i] = (pba[0][i]* math.sqrt(d_model)) + pe2[0][i]\n",
        "    # cosine wave \n",
        "    pe2[0][i+1] = math.cos(pos2 / (10000 ** ((2 * i) / d_model)))\n",
        "    pba[0][i+1] = (pba[0][i+1]* math.sqrt(d_model)) + pe2[0][i+1]\n"
      ],
      "execution_count": 49,
      "outputs": []
    },
    {
      "cell_type": "code",
      "metadata": {
        "colab": {
          "base_uri": "https://localhost:8080/"
        },
        "id": "5iSzaEEeO509",
        "outputId": "5e2a48e3-860e-40e7-d2f5-b8e6f610874b"
      },
      "source": [
        "print(word1, word2)\n",
        "\n",
        "cos_lib = cosine_similarity(aa, ba)\n",
        "print('{} word similarity '.format(cos_lib))\n",
        "cos_lib = cosine_similarity(pe1, pe2)\n",
        "print('{} Positional similarity '.format(cos_lib))\n",
        "cos_lib = cosine_similarity(paa, pba)\n",
        "print('{} Positional encoding similarity '.format(cos_lib))"
      ],
      "execution_count": 50,
      "outputs": [
        {
          "output_type": "stream",
          "text": [
            "couch and\n",
            "[[0.9998211]] word similarity \n",
            "[[0.98606384]] Positional similarity \n",
            "[[0.99643457]] Positional encoding similarity \n"
          ],
          "name": "stdout"
        }
      ]
    },
    {
      "cell_type": "code",
      "metadata": {
        "id": "JLG_FewhPI9z"
      },
      "source": [
        "def positional_encoding_func(w1, w2, p1, p2):\n",
        "\n",
        "    word1 = w1\n",
        "    word2 = w2\n",
        "    pos1 = p1\n",
        "    pos2 = p2\n",
        "\n",
        "    a = model2[word1]\n",
        "    b = model2[word2]\n",
        "\n",
        "\n",
        "    if dprint==1: \n",
        "        print(a)\n",
        "\n",
        "\n",
        "    # compute consine similarity \n",
        "    dot = np.dot(a, b)\n",
        "    norma = np.linalg.norm(a)\n",
        "    normb = np.linalg.norm(b)\n",
        "\n",
        "    cos = dot/(norma * normb)\n",
        "\n",
        "    aa = a.reshape(1, 512)\n",
        "    ba = b.reshape(1, 512)\n",
        "\n",
        "    cos_lib = cosine_similarity(aa, ba)\n",
        "    pe1 = aa.copy()\n",
        "    pe2 = aa.copy()\n",
        "    pe3 = aa.copy()\n",
        "    paa = aa.copy()\n",
        "    pba = ba.copy()\n",
        "\n",
        "\n",
        "\n",
        "    d_model = 512 \n",
        "    max_print = d_model \n",
        "    max_length = 20 \n",
        "\n",
        "    for i in range(0, max_print, 2):\n",
        "        # sine wave\n",
        "        pe1[0][i] = math.sin(pos1 / (10000 ** ((2 * i) / d_model)))\n",
        "        paa[0][i] = (paa[0][i]* math.sqrt(d_model)) + pe1[0][i]\n",
        "        # cosine wave \n",
        "        pe1[0][i+1] = math.cos(pos1 / (10000 ** ((2 * i) / d_model)))\n",
        "        paa[0][i+1] = (paa[0][i+1]* math.sqrt(d_model)) + pe1[0][i+1]\n",
        "\n",
        "\n",
        "    for i in range(0, max_print, 2):\n",
        "        # sine wave\n",
        "        pe2[0][i] = math.sin(pos2 / (10000 ** ((2 * i) / d_model)))\n",
        "        pba[0][i] = (pba[0][i]* math.sqrt(d_model)) + pe2[0][i]\n",
        "        # cosine wave \n",
        "        pe2[0][i+1] = math.cos(pos2 / (10000 ** ((2 * i) / d_model)))\n",
        "        pba[0][i+1] = (pba[0][i+1]* math.sqrt(d_model)) + pe2[0][i+1]\n",
        "\n",
        "    print(word1, word2)\n",
        "\n",
        "    cos_lib = cosine_similarity(aa, ba)\n",
        "    print('{} word similarity '.format(cos_lib))\n",
        "    cos_lib = cosine_similarity(pe1, pe2)\n",
        "    print('{} Positional similarity '.format(cos_lib))\n",
        "    cos_lib = cosine_similarity(paa, pba)\n",
        "    print('{} Positional encoding similarity '.format(cos_lib))"
      ],
      "execution_count": 51,
      "outputs": []
    },
    {
      "cell_type": "code",
      "metadata": {
        "colab": {
          "base_uri": "https://localhost:8080/"
        },
        "id": "5cu1-tq4ROYX",
        "outputId": "bc9d6f3f-944f-42da-c932-8be3010feb56"
      },
      "source": [
        "positional_encoding_func('cat', 'on', 3, 5)"
      ],
      "execution_count": 52,
      "outputs": [
        {
          "output_type": "stream",
          "text": [
            "cat on\n",
            "[[0.9998284]] word similarity \n",
            "[[0.9511898]] Positional similarity \n",
            "[[0.98785627]] Positional encoding similarity \n"
          ],
          "name": "stdout"
        }
      ]
    },
    {
      "cell_type": "code",
      "metadata": {
        "id": "GFrbutcqRXsv"
      },
      "source": [
        ""
      ],
      "execution_count": null,
      "outputs": []
    }
  ]
}